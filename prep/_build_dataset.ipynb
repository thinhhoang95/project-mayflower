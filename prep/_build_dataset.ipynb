{
 "cells": [
  {
   "cell_type": "code",
   "execution_count": 1,
   "metadata": {},
   "outputs": [
    {
     "name": "stdout",
     "output_type": "stream",
     "text": [
      "DATA_DIR: /Volumes/CrucialX/hlybokyi-potik/data/hourly_merged\n",
      "OUTPUT_DIR: /Volumes/CrucialX/hlybokyi-potik/data/datasets\n"
     ]
    }
   ],
   "source": [
    "%load_ext autoreload\n",
    "%autoreload 2\n",
    "\n",
    "from dotenv import load_dotenv\n",
    "import os\n",
    "load_dotenv()\n",
    "\n",
    "PROJECT_ROOT = os.getenv(\"PROJECT_ROOT\")\n",
    "DATA_DIR = os.getenv(\"DATA_DIR\")\n",
    "OUTPUT_DIR = os.getenv(\"OUTPUT_DIR\")\n",
    "\n",
    "print(f'DATA_DIR: {DATA_DIR}')\n",
    "print(f'OUTPUT_DIR: {OUTPUT_DIR}')\n"
   ]
  },
  {
   "cell_type": "code",
   "execution_count": 2,
   "metadata": {},
   "outputs": [
    {
     "name": "stdout",
     "output_type": "stream",
     "text": [
      "Number of chunks: 11\n",
      "Number of main chunks: 720\n",
      "Number of last chunks: 25\n"
     ]
    },
    {
     "name": "stderr",
     "output_type": "stream",
     "text": [
      "100%|██████████| 72/72 [01:51<00:00,  1.55s/it]\n",
      "100%|██████████| 72/72 [02:08<00:00,  1.79s/it]\n",
      "100%|██████████| 72/72 [02:19<00:00,  1.93s/it]\n",
      "100%|██████████| 72/72 [02:31<00:00,  2.11s/it]\n",
      "100%|██████████| 72/72 [02:54<00:00,  2.42s/it]\n",
      "100%|██████████| 72/72 [02:43<00:00,  2.27s/it]\n",
      "100%|██████████| 72/72 [02:57<00:00,  2.47s/it]\n",
      "100%|██████████| 72/72 [02:51<00:00,  2.39s/it]\n",
      "100%|██████████| 72/72 [03:09<00:00,  2.64s/it]\n",
      "100%|██████████| 72/72 [03:11<00:00,  2.66s/it]\n",
      "100%|██████████| 25/25 [01:05<00:00,  2.63s/it]\n"
     ]
    },
    {
     "ename": "TypeError",
     "evalue": "cannot unpack non-iterable int object",
     "output_type": "error",
     "traceback": [
      "\u001b[0;31m---------------------------------------------------------------------------\u001b[0m",
      "\u001b[0;31mTypeError\u001b[0m                                 Traceback (most recent call last)",
      "Cell \u001b[0;32mIn[2], line 3\u001b[0m\n\u001b[1;32m      1\u001b[0m \u001b[38;5;28;01mfrom\u001b[39;00m \u001b[38;5;21;01mbuild_dataset\u001b[39;00m \u001b[38;5;28;01mimport\u001b[39;00m build_datasets, save_validation_and_testdatasets\n\u001b[0;32m----> 3\u001b[0m train_data, val_data, test_data \u001b[38;5;241m=\u001b[39m build_datasets(DATA_DIR, zigzag\u001b[38;5;241m=\u001b[39m\u001b[38;5;28;01mFalse\u001b[39;00m,\n\u001b[1;32m      4\u001b[0m                                                  output_dir\u001b[38;5;241m=\u001b[39mOUTPUT_DIR)\n\u001b[1;32m      5\u001b[0m \u001b[38;5;66;03m# Create the processed directory if it doesn't exist\u001b[39;00m\n\u001b[1;32m      6\u001b[0m \u001b[38;5;66;03m#os.makedirs(f'{PROJECT_ROOT}/data/processed', exist_ok=True)\u001b[39;00m\n\u001b[1;32m      7\u001b[0m \u001b[38;5;66;03m#save_datasets(train_data, val_data, test_data, f'{PROJECT_ROOT}/data/processed')\u001b[39;00m\n",
      "\u001b[0;31mTypeError\u001b[0m: cannot unpack non-iterable int object"
     ]
    }
   ],
   "source": [
    "from build_dataset import build_datasets, save_validation_and_testdatasets\n",
    "\n",
    "train_data, val_data, test_data = build_datasets(DATA_DIR, zigzag=True,\n",
    "                                                 output_dir=OUTPUT_DIR)\n",
    "# Create the processed directory if it doesn't exist\n",
    "#os.makedirs(f'{PROJECT_ROOT}/data/processed', exist_ok=True)\n",
    "#save_datasets(train_data, val_data, test_data, f'{PROJECT_ROOT}/data/processed')\n"
   ]
  },
  {
   "cell_type": "code",
   "execution_count": null,
   "metadata": {},
   "outputs": [],
   "source": []
  }
 ],
 "metadata": {
  "kernelspec": {
   "display_name": "mayflower",
   "language": "python",
   "name": "python3"
  },
  "language_info": {
   "codemirror_mode": {
    "name": "ipython",
    "version": 3
   },
   "file_extension": ".py",
   "mimetype": "text/x-python",
   "name": "python",
   "nbconvert_exporter": "python",
   "pygments_lexer": "ipython3",
   "version": "3.12.8"
  }
 },
 "nbformat": 4,
 "nbformat_minor": 2
}
